{
 "cells": [
  {
   "cell_type": "code",
   "execution_count": null,
   "id": "0e8c2950-4a4d-4aec-8536-72e36750315e",
   "metadata": {},
   "outputs": [],
   "source": []
  },
  {
   "cell_type": "code",
   "execution_count": 1,
   "id": "906c039d-205c-4a7b-98c0-c39a5cb88652",
   "metadata": {
    "tags": []
   },
   "outputs": [],
   "source": [
    "import pymongo\n",
    "import pandas as pd\n",
    "import datetime\n",
    "import matplotlib.pyplot as plt\n",
    "import math"
   ]
  },
  {
   "cell_type": "code",
   "execution_count": 2,
   "id": "566dc992-fb01-4473-9e03-1f682f38bcf1",
   "metadata": {
    "tags": []
   },
   "outputs": [
    {
     "ename": "NameError",
     "evalue": "name 'pd' is not defined",
     "output_type": "error",
     "traceback": [
      "\u001b[1;31m---------------------------------------------------------------------------\u001b[0m",
      "\u001b[1;31mNameError\u001b[0m                                 Traceback (most recent call last)",
      "Cell \u001b[1;32mIn[2], line 3\u001b[0m\n\u001b[0;32m      1\u001b[0m \u001b[38;5;28;01mfrom\u001b[39;00m \u001b[38;5;21;01mmiddleware\u001b[39;00m \u001b[38;5;28;01mimport\u001b[39;00m importdata\n\u001b[1;32m----> 3\u001b[0m df \u001b[38;5;241m=\u001b[39m \u001b[43mimportdata\u001b[49m\u001b[38;5;241;43m.\u001b[39;49m\u001b[43mloaddata\u001b[49m\u001b[43m(\u001b[49m\u001b[43m)\u001b[49m\n",
      "File \u001b[1;32mD:\\POLDEV (MBKM)\\Middleware\\MiddlewareFolder\\middleware\\importdata.py:40\u001b[0m, in \u001b[0;36mloaddata\u001b[1;34m()\u001b[0m\n\u001b[0;32m     38\u001b[0m \u001b[38;5;28minput\u001b[39m \u001b[38;5;241m=\u001b[39m [cnn, detik, inews, kompas, liputan, sindo, tempo]\n\u001b[0;32m     39\u001b[0m df \u001b[38;5;241m=\u001b[39m pd\u001b[38;5;241m.\u001b[39mconcat(\u001b[38;5;28minput\u001b[39m, ignore_index\u001b[38;5;241m=\u001b[39m\u001b[38;5;28;01mTrue\u001b[39;00m)\n\u001b[1;32m---> 40\u001b[0m df \u001b[38;5;241m=\u001b[39m \u001b[43mpreprocess\u001b[49m\u001b[38;5;241;43m.\u001b[39;49m\u001b[43mediting\u001b[49m\u001b[43m(\u001b[49m\u001b[43mdf\u001b[49m\u001b[43m)\u001b[49m\n\u001b[0;32m     42\u001b[0m \u001b[38;5;66;03m# close mongodb connection\u001b[39;00m\n\u001b[0;32m     43\u001b[0m client\u001b[38;5;241m.\u001b[39mclose()\n",
      "File \u001b[1;32mD:\\POLDEV (MBKM)\\Middleware\\MiddlewareFolder\\middleware\\preprocess.py:3\u001b[0m, in \u001b[0;36mediting\u001b[1;34m(df)\u001b[0m\n\u001b[0;32m      2\u001b[0m \u001b[38;5;28;01mdef\u001b[39;00m \u001b[38;5;21mediting\u001b[39m(df) :\n\u001b[1;32m----> 3\u001b[0m     df[\u001b[38;5;124m'\u001b[39m\u001b[38;5;124madded_at\u001b[39m\u001b[38;5;124m'\u001b[39m] \u001b[38;5;241m=\u001b[39m \u001b[43mpd\u001b[49m\u001b[38;5;241m.\u001b[39mto_datetime(df[\u001b[38;5;124m'\u001b[39m\u001b[38;5;124madded_at\u001b[39m\u001b[38;5;124m'\u001b[39m])\n\u001b[0;32m      4\u001b[0m     \u001b[38;5;28;01mreturn\u001b[39;00m df\n",
      "\u001b[1;31mNameError\u001b[0m: name 'pd' is not defined"
     ]
    }
   ],
   "source": [
    "from middleware import importdata\n",
    "\n",
    "df = importdata.loaddata()"
   ]
  },
  {
   "cell_type": "code",
   "execution_count": null,
   "id": "05be65c7-7b27-48b3-9736-94bba3974ed4",
   "metadata": {},
   "outputs": [],
   "source": [
    "from middleware import visual, importdata\n",
    "\n",
    "# buat class / import data\n",
    "visual = visual.Visualisation()"
   ]
  },
  {
   "cell_type": "code",
   "execution_count": null,
   "id": "4162ef9e-c68c-45a6-b3ea-79d87d58edf7",
   "metadata": {},
   "outputs": [],
   "source": [
    "# time series\n",
    "db = [cnn, tempo, inews] #db = [cnn, detik, inews, kompas, liputan, sindo, tempo]\n",
    "start = pd.Timestamp('2023-04-12')\n",
    "end = pd.Timestamp('2023-04-20')\n",
    "\n",
    "visual.timeseries(db=db, start=start, end=end)"
   ]
  },
  {
   "cell_type": "code",
   "execution_count": null,
   "id": "8e37ce3f-5a87-4398-a00b-bd3919797730",
   "metadata": {},
   "outputs": [],
   "source": [
    "# pie percentage\n",
    "db = [cnn, tempo, inews]\n",
    "start = pd.Timestamp('2023-04-12')\n",
    "end = pd.Timestamp('2023-04-20')\n",
    "col='source'\n",
    "\n",
    "visual.percentage(db=db, col=col, start=start, end=end)\n"
   ]
  }
 ],
 "metadata": {
  "kernelspec": {
   "display_name": "Python 3 (ipykernel)",
   "language": "python",
   "name": "python3"
  },
  "language_info": {
   "codemirror_mode": {
    "name": "ipython",
    "version": 3
   },
   "file_extension": ".py",
   "mimetype": "text/x-python",
   "name": "python",
   "nbconvert_exporter": "python",
   "pygments_lexer": "ipython3",
   "version": "3.9.4"
  }
 },
 "nbformat": 4,
 "nbformat_minor": 5
}
